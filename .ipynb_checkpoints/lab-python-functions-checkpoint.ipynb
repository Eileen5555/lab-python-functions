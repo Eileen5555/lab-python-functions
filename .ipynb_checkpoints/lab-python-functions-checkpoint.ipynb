{
 "cells": [
  {
   "cell_type": "markdown",
   "id": "25d7736c-ba17-4aff-b6bb-66eba20fbf4e",
   "metadata": {},
   "source": [
    "# Lab | Functions"
   ]
  },
  {
   "cell_type": "markdown",
   "id": "0c581062-8967-4d93-b06e-62833222f930",
   "metadata": {
    "tags": []
   },
   "source": [
    "## Exercise: Managing Customer Orders with Functions\n",
    "\n",
    "In the previous exercise, you improved the code for managing customer orders by using loops and flow control. Now, let's take it a step further and refactor the code by introducing functions.\n",
    "\n",
    "Follow the steps below to complete the exercise:\n",
    "\n",
    "1. Define a function named `initialize_inventory` that takes `products` as a parameter. Inside the function, implement the code for initializing the inventory dictionary using a loop and user input.\n",
    "\n",
    "2. Define a function named `get_customer_orders` that takes no parameters. Inside the function, implement the code for prompting the user to enter the product names using a loop. The function should return the `customer_orders` set.\n",
    "\n",
    "3. Define a function named `update_inventory` that takes `customer_orders` and `inventory` as parameters. Inside the function, implement the code for updating the inventory dictionary based on the customer orders.\n",
    "\n",
    "4. Define a function named `calculate_order_statistics` that takes `customer_orders` and `products` as parameters. Inside the function, implement the code for calculating the order statistics (total products ordered, and percentage of unique products ordered). The function should return these values.\n",
    "\n",
    "5. Define a function named `print_order_statistics` that takes `order_statistics` as a parameter. Inside the function, implement the code for printing the order statistics.\n",
    "\n",
    "6. Define a function named `print_updated_inventory` that takes `inventory` as a parameter. Inside the function, implement the code for printing the updated inventory.\n",
    "\n",
    "7. Call the functions in the appropriate sequence to execute the program and manage customer orders.\n",
    "\n",
    "Hints for functions:\n",
    "\n",
    "- Consider the input parameters required for each function and their return values.\n",
    "- Utilize function parameters and return values to transfer data between functions.\n",
    "- Test your functions individually to ensure they work correctly.\n",
    "\n",
    "\n"
   ]
  },
  {
   "cell_type": "code",
   "execution_count": 2,
   "id": "d65ca0bd-df8e-4225-9f03-a16e327bc242",
   "metadata": {},
   "outputs": [
    {
     "name": "stdin",
     "output_type": "stream",
     "text": [
      "Enter quantity for t-shirt:  4\n",
      "Enter quantity for mug:  5\n",
      "Enter quantity for hat:  56\n",
      "Enter quantity for book:  1\n",
      "Enter quantity for keychain:  3\n"
     ]
    },
    {
     "name": "stdout",
     "output_type": "stream",
     "text": [
      "{'t-shirt': 4, 'mug': 5, 'hat': 56, 'book': 1, 'keychain': 3}\n"
     ]
    }
   ],
   "source": [
    "products = [\"t-shirt\", \"mug\", \"hat\", \"book\", \"keychain\"]\n",
    "inventory = {}\n",
    "\n",
    "def initialize_inventory(products):\n",
    "    for product in products: \n",
    "        quantity = int(input(\"Enter quantity for \" + product + \": \"))\n",
    "        inventory[product] = quantity\n",
    "    return inventory\n",
    "\n",
    "print(initialize_inventory(products))\n",
    "    "
   ]
  },
  {
   "cell_type": "code",
   "execution_count": 6,
   "id": "a4ee007e-e388-4e0b-9c1e-3c34216ab137",
   "metadata": {},
   "outputs": [
    {
     "name": "stdin",
     "output_type": "stream",
     "text": [
      "Enter the name of a product you want to order:  hut\n"
     ]
    },
    {
     "name": "stdout",
     "output_type": "stream",
     "text": [
      "Invalid product! Please choose from: ['t-shirt', 'mug', 'hat', 'book', 'keychain']\n"
     ]
    },
    {
     "name": "stdin",
     "output_type": "stream",
     "text": [
      "Enter the name of a product you want to order:  hat\n",
      "Do you want to order another product? (yes/no):  mug\n"
     ]
    },
    {
     "name": "stdout",
     "output_type": "stream",
     "text": [
      "Invalid input! Please answer 'yes' or 'no'.\n"
     ]
    },
    {
     "name": "stdin",
     "output_type": "stream",
     "text": [
      "Do you want to order another product? (yes/no):  yes\n",
      "Enter the name of a product you want to order:  hut\n"
     ]
    },
    {
     "name": "stdout",
     "output_type": "stream",
     "text": [
      "Invalid product! Please choose from: ['t-shirt', 'mug', 'hat', 'book', 'keychain']\n"
     ]
    },
    {
     "name": "stdin",
     "output_type": "stream",
     "text": [
      "Enter the name of a product you want to order:  hat\n",
      "Do you want to order another product? (yes/no):  no\n"
     ]
    },
    {
     "name": "stdout",
     "output_type": "stream",
     "text": [
      "Thank you for your order\n",
      "('Customer orders:', {'hat'})\n"
     ]
    }
   ],
   "source": [
    "products = [\"t-shirt\", \"mug\", \"hat\", \"book\", \"keychain\"]\n",
    "customer_orders = set()\n",
    "\n",
    "def get_customer_orders():\n",
    "    while True:\n",
    "        add=\"yes\"\n",
    "        product = input(\"Enter the name of a product you want to order: \").strip().lower()\n",
    "        while product not in products:\n",
    "            print(\"Invalid product! Please choose from:\", products)\n",
    "            product = input(\"Enter the name of a product you want to order: \").strip().lower()\n",
    "        if add == \"yes\":\n",
    "            customer_orders.add(product)\n",
    "        add = input(\"Do you want to order another product? (yes/no): \").strip().lower()\n",
    "        while add not in [\"yes\", \"no\"]:\n",
    "            print(\"Invalid input! Please answer 'yes' or 'no'.\")\n",
    "            add = input(\"Do you want to order another product? (yes/no): \").strip().lower()\n",
    "        if add == \"no\":\n",
    "            print(\"Thank you for your order\")\n",
    "            break\n",
    "    return(\"Customer orders:\", customer_orders)\n",
    "        \n",
    "print(get_customer_orders())"
   ]
  },
  {
   "cell_type": "code",
   "execution_count": 31,
   "id": "21469dcc-a37e-4a0e-b9bc-d847422199aa",
   "metadata": {},
   "outputs": [
    {
     "name": "stdin",
     "output_type": "stream",
     "text": [
      "Enter quantity for t-shirt:  3\n",
      "Enter quantity for mug:  3\n",
      "Enter quantity for hat:  3\n",
      "Enter quantity for book:  3\n",
      "Enter quantity for keychain:  3\n",
      "Enter the name of a product you want to order:  mug\n",
      "Do you want to order another product? (yes/no):  no\n"
     ]
    },
    {
     "name": "stdout",
     "output_type": "stream",
     "text": [
      "\n",
      "Thank you for your order\n",
      "\n",
      "Order Statistics:\n",
      "Total Products Ordered: 1\n",
      "Percentage of Products Ordered: 20.0 %\n",
      "\n",
      "Updated Inventory:\n",
      "t-shirt : 3\n",
      "mug : 2\n",
      "hat : 3\n",
      "book : 3\n",
      "keychain : 3\n"
     ]
    }
   ],
   "source": [
    "products = [\"t-shirt\", \"mug\", \"hat\", \"book\", \"keychain\"]\n",
    "inventory = {}\n",
    "\n",
    "def initialize_inventory(products):\n",
    "    for product in products: \n",
    "        quantity = int(input(\"Enter quantity for \" + product + \": \"))\n",
    "        inventory[product] = quantity\n",
    "    return inventory\n",
    "\n",
    "\n",
    "customer_orders = set()\n",
    "\n",
    "def get_customer_orders():\n",
    "    while True:\n",
    "        product = input(\"Enter the name of a product you want to order: \").strip().lower()\n",
    "        while product not in products:\n",
    "            print(\"Invalid product! Please choose from:\", products)\n",
    "            product = input(\"Enter the name of a product you want to order: \").strip().lower()\n",
    "            \n",
    "        customer_orders.add(product)\n",
    "        \n",
    "        add = input(\"Do you want to order another product? (yes/no): \").strip().lower()\n",
    "        while add not in [\"yes\", \"no\"]:\n",
    "            print(\"Invalid input! Please answer 'yes' or 'no'.\")\n",
    "            add = input(\"Do you want to order another product? (yes/no): \").strip().lower()\n",
    "            \n",
    "        if add == \"no\":\n",
    "            print(\"\\nThank you for your order\")\n",
    "            break\n",
    "            \n",
    "    return customer_orders\n",
    "\n",
    "def update_inventory(customer_orders, inventory):\n",
    "    updated_inventory = inventory.copy() \n",
    "    for product in customer_orders:\n",
    "        if product in updated_inventory:\n",
    "            updated_inventory[product] -= 1\n",
    "    return updated_inventory\n",
    "        \n",
    "\n",
    "#Define a function named calculate_order_statistics that takes customer_orders and products as parameters. \n",
    "#Inside the function, implement the code for calculating the order statistics \n",
    "#(total products ordered, and percentage of unique products ordered). The function should return these values.\n",
    "def calculate_order_statistics(customer_orders, products):\n",
    "    total_products_ordered = len(customer_orders)\n",
    "    percentage_ordered = (total_products_ordered / len(products)) * 100\n",
    "    return total_products_ordered, percentage_ordered\n",
    "\n",
    "def print_order_statistics(order_statistics):\n",
    "    total_products_ordered, percentage_ordered = order_statistics\n",
    "    print(\"\\nOrder Statistics:\")\n",
    "    print(\"Total Products Ordered:\", total_products_ordered)\n",
    "    print(\"Percentage of Products Ordered:\", percentage_ordered, \"%\")\n",
    "\n",
    "def print_updated_inventory(inventory):\n",
    "    print(\"\\nUpdated Inventory:\")\n",
    "    for product, quantity in inventory.items():\n",
    "        print(product,\":\", quantity)\n",
    "\n",
    "\n",
    "initialize_inventory(products)\n",
    "customer_orders = get_customer_orders()\n",
    "updated_inventory = update_inventory(customer_orders, inventory)\n",
    "order_statistics = calculate_order_statistics(customer_orders, products)\n",
    "print_order_statistics(order_statistics)\n",
    "print_updated_inventory(updated_inventory)"
   ]
  },
  {
   "cell_type": "code",
   "execution_count": null,
   "id": "eed7dcec-2a05-47b9-b201-629cce987a19",
   "metadata": {},
   "outputs": [],
   "source": []
  }
 ],
 "metadata": {
  "kernelspec": {
   "display_name": "Python 3 (ipykernel)",
   "language": "python",
   "name": "python3"
  },
  "language_info": {
   "codemirror_mode": {
    "name": "ipython",
    "version": 3
   },
   "file_extension": ".py",
   "mimetype": "text/x-python",
   "name": "python",
   "nbconvert_exporter": "python",
   "pygments_lexer": "ipython3",
   "version": "3.11.7"
  }
 },
 "nbformat": 4,
 "nbformat_minor": 5
}
